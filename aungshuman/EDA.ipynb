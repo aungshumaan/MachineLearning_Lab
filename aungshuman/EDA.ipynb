{
 "cells": [
  {
   "cell_type": "markdown",
   "metadata": {},
   "source": [
    "# Machine Learning Lab: Team Integreat"
   ]
  },
  {
   "cell_type": "code",
   "execution_count": 1,
   "metadata": {
    "collapsed": true
   },
   "outputs": [],
   "source": [
    "import numpy as np\n",
    "import pandas as pd\n",
    "from matplotlib import pyplot as plt\n",
    "%matplotlib inline"
   ]
  },
  {
   "cell_type": "code",
   "execution_count": 2,
   "metadata": {
    "collapsed": true
   },
   "outputs": [],
   "source": [
    "orders = pd.read_csv('data/Orders.csv')"
   ]
  },
  {
   "cell_type": "code",
   "execution_count": 3,
   "metadata": {
    "collapsed": false
   },
   "outputs": [
    {
     "data": {
      "text/html": [
       "<div>\n",
       "<table border=\"1\" class=\"dataframe\">\n",
       "  <thead>\n",
       "    <tr style=\"text-align: right;\">\n",
       "      <th></th>\n",
       "      <th>Row.ID</th>\n",
       "      <th>Order.ID</th>\n",
       "      <th>Order.Date</th>\n",
       "      <th>Ship.Date</th>\n",
       "      <th>Ship.Mode</th>\n",
       "      <th>Customer.ID</th>\n",
       "      <th>Customer.Name</th>\n",
       "      <th>Segment</th>\n",
       "      <th>Postal.Code</th>\n",
       "      <th>City</th>\n",
       "      <th>...</th>\n",
       "      <th>Product.ID</th>\n",
       "      <th>Category</th>\n",
       "      <th>Sub.Category</th>\n",
       "      <th>Product.Name</th>\n",
       "      <th>Sales</th>\n",
       "      <th>Quantity</th>\n",
       "      <th>Discount</th>\n",
       "      <th>Profit</th>\n",
       "      <th>Shipping.Cost</th>\n",
       "      <th>Order.Priority</th>\n",
       "    </tr>\n",
       "  </thead>\n",
       "  <tbody>\n",
       "    <tr>\n",
       "      <th>0</th>\n",
       "      <td>40098</td>\n",
       "      <td>CA-2014-AB10015140-41954</td>\n",
       "      <td>11/11/14</td>\n",
       "      <td>11/13/14</td>\n",
       "      <td>First Class</td>\n",
       "      <td>AB-100151402</td>\n",
       "      <td>Aaron Bergman</td>\n",
       "      <td>Consumer</td>\n",
       "      <td>73120.0</td>\n",
       "      <td>Oklahoma City</td>\n",
       "      <td>...</td>\n",
       "      <td>TEC-PH-5816</td>\n",
       "      <td>Technology</td>\n",
       "      <td>Phones</td>\n",
       "      <td>Samsung Convoy 3</td>\n",
       "      <td>$221.98</td>\n",
       "      <td>2</td>\n",
       "      <td>0.0</td>\n",
       "      <td>$62.15</td>\n",
       "      <td>40.77</td>\n",
       "      <td>High</td>\n",
       "    </tr>\n",
       "    <tr>\n",
       "      <th>1</th>\n",
       "      <td>26341</td>\n",
       "      <td>IN-2014-JR162107-41675</td>\n",
       "      <td>2/5/14</td>\n",
       "      <td>2/7/14</td>\n",
       "      <td>Second Class</td>\n",
       "      <td>JR-162107</td>\n",
       "      <td>Justin Ritter</td>\n",
       "      <td>Corporate</td>\n",
       "      <td>NaN</td>\n",
       "      <td>Wollongong</td>\n",
       "      <td>...</td>\n",
       "      <td>FUR-CH-5379</td>\n",
       "      <td>Furniture</td>\n",
       "      <td>Chairs</td>\n",
       "      <td>Novimex Executive Leather Armchair, Black</td>\n",
       "      <td>$3,709.40</td>\n",
       "      <td>9</td>\n",
       "      <td>0.1</td>\n",
       "      <td>-$288.77</td>\n",
       "      <td>923.63</td>\n",
       "      <td>Critical</td>\n",
       "    </tr>\n",
       "    <tr>\n",
       "      <th>2</th>\n",
       "      <td>25330</td>\n",
       "      <td>IN-2014-CR127307-41929</td>\n",
       "      <td>10/17/14</td>\n",
       "      <td>10/18/14</td>\n",
       "      <td>First Class</td>\n",
       "      <td>CR-127307</td>\n",
       "      <td>Craig Reiter</td>\n",
       "      <td>Consumer</td>\n",
       "      <td>NaN</td>\n",
       "      <td>Brisbane</td>\n",
       "      <td>...</td>\n",
       "      <td>TEC-PH-5356</td>\n",
       "      <td>Technology</td>\n",
       "      <td>Phones</td>\n",
       "      <td>Nokia Smart Phone, with Caller ID</td>\n",
       "      <td>$5,175.17</td>\n",
       "      <td>9</td>\n",
       "      <td>0.1</td>\n",
       "      <td>$919.97</td>\n",
       "      <td>915.49</td>\n",
       "      <td>Medium</td>\n",
       "    </tr>\n",
       "    <tr>\n",
       "      <th>3</th>\n",
       "      <td>13524</td>\n",
       "      <td>ES-2014-KM1637548-41667</td>\n",
       "      <td>1/28/14</td>\n",
       "      <td>1/30/14</td>\n",
       "      <td>First Class</td>\n",
       "      <td>KM-1637548</td>\n",
       "      <td>Katherine Murray</td>\n",
       "      <td>Home Office</td>\n",
       "      <td>NaN</td>\n",
       "      <td>Berlin</td>\n",
       "      <td>...</td>\n",
       "      <td>TEC-PH-5267</td>\n",
       "      <td>Technology</td>\n",
       "      <td>Phones</td>\n",
       "      <td>Motorola Smart Phone, Cordless</td>\n",
       "      <td>$2,892.51</td>\n",
       "      <td>5</td>\n",
       "      <td>0.1</td>\n",
       "      <td>-$96.54</td>\n",
       "      <td>910.16</td>\n",
       "      <td>Medium</td>\n",
       "    </tr>\n",
       "    <tr>\n",
       "      <th>4</th>\n",
       "      <td>47221</td>\n",
       "      <td>SG-2014-RH9495111-41948</td>\n",
       "      <td>11/5/14</td>\n",
       "      <td>11/6/14</td>\n",
       "      <td>Same Day</td>\n",
       "      <td>RH-9495111</td>\n",
       "      <td>Rick Hansen</td>\n",
       "      <td>Consumer</td>\n",
       "      <td>NaN</td>\n",
       "      <td>Dakar</td>\n",
       "      <td>...</td>\n",
       "      <td>TEC-CO-6011</td>\n",
       "      <td>Technology</td>\n",
       "      <td>Copiers</td>\n",
       "      <td>Sharp Wireless Fax, High-Speed</td>\n",
       "      <td>$2,832.96</td>\n",
       "      <td>8</td>\n",
       "      <td>0.0</td>\n",
       "      <td>$311.52</td>\n",
       "      <td>903.04</td>\n",
       "      <td>Critical</td>\n",
       "    </tr>\n",
       "  </tbody>\n",
       "</table>\n",
       "<p>5 rows × 24 columns</p>\n",
       "</div>"
      ],
      "text/plain": [
       "   Row.ID                  Order.ID Order.Date Ship.Date     Ship.Mode  \\\n",
       "0   40098  CA-2014-AB10015140-41954   11/11/14  11/13/14   First Class   \n",
       "1   26341    IN-2014-JR162107-41675     2/5/14    2/7/14  Second Class   \n",
       "2   25330    IN-2014-CR127307-41929   10/17/14  10/18/14   First Class   \n",
       "3   13524   ES-2014-KM1637548-41667    1/28/14   1/30/14   First Class   \n",
       "4   47221   SG-2014-RH9495111-41948    11/5/14   11/6/14      Same Day   \n",
       "\n",
       "    Customer.ID     Customer.Name      Segment  Postal.Code           City  \\\n",
       "0  AB-100151402     Aaron Bergman     Consumer      73120.0  Oklahoma City   \n",
       "1     JR-162107     Justin Ritter    Corporate          NaN     Wollongong   \n",
       "2     CR-127307      Craig Reiter     Consumer          NaN       Brisbane   \n",
       "3    KM-1637548  Katherine Murray  Home Office          NaN         Berlin   \n",
       "4    RH-9495111       Rick Hansen     Consumer          NaN          Dakar   \n",
       "\n",
       "        ...         Product.ID    Category Sub.Category  \\\n",
       "0       ...        TEC-PH-5816  Technology       Phones   \n",
       "1       ...        FUR-CH-5379   Furniture       Chairs   \n",
       "2       ...        TEC-PH-5356  Technology       Phones   \n",
       "3       ...        TEC-PH-5267  Technology       Phones   \n",
       "4       ...        TEC-CO-6011  Technology      Copiers   \n",
       "\n",
       "                                Product.Name      Sales Quantity Discount  \\\n",
       "0                           Samsung Convoy 3    $221.98        2      0.0   \n",
       "1  Novimex Executive Leather Armchair, Black  $3,709.40        9      0.1   \n",
       "2          Nokia Smart Phone, with Caller ID  $5,175.17        9      0.1   \n",
       "3             Motorola Smart Phone, Cordless  $2,892.51        5      0.1   \n",
       "4             Sharp Wireless Fax, High-Speed  $2,832.96        8      0.0   \n",
       "\n",
       "     Profit Shipping.Cost  Order.Priority  \n",
       "0    $62.15         40.77            High  \n",
       "1  -$288.77        923.63        Critical  \n",
       "2   $919.97        915.49          Medium  \n",
       "3   -$96.54        910.16          Medium  \n",
       "4   $311.52        903.04        Critical  \n",
       "\n",
       "[5 rows x 24 columns]"
      ]
     },
     "execution_count": 3,
     "metadata": {},
     "output_type": "execute_result"
    }
   ],
   "source": [
    "orders.head()"
   ]
  },
  {
   "cell_type": "code",
   "execution_count": 4,
   "metadata": {
    "collapsed": false
   },
   "outputs": [
    {
     "data": {
      "text/plain": [
       "Index(['Row.ID', 'Order.ID', 'Order.Date', 'Ship.Date', 'Ship.Mode',\n",
       "       'Customer.ID', 'Customer.Name', 'Segment', 'Postal.Code', 'City',\n",
       "       'State', 'Country', 'Region', 'Market', 'Product.ID', 'Category',\n",
       "       'Sub.Category', 'Product.Name', 'Sales', 'Quantity', 'Discount',\n",
       "       'Profit', 'Shipping.Cost', 'Order.Priority'],\n",
       "      dtype='object')"
      ]
     },
     "execution_count": 4,
     "metadata": {},
     "output_type": "execute_result"
    }
   ],
   "source": [
    "orders.columns"
   ]
  },
  {
   "cell_type": "code",
   "execution_count": 5,
   "metadata": {
    "collapsed": false
   },
   "outputs": [
    {
     "data": {
      "text/plain": [
       "(51290, 24)"
      ]
     },
     "execution_count": 5,
     "metadata": {},
     "output_type": "execute_result"
    }
   ],
   "source": [
    "orders.shape"
   ]
  },
  {
   "cell_type": "code",
   "execution_count": 6,
   "metadata": {
    "collapsed": false
   },
   "outputs": [
    {
     "data": {
      "text/plain": [
       "Row.ID              int64\n",
       "Order.ID           object\n",
       "Order.Date         object\n",
       "Ship.Date          object\n",
       "Ship.Mode          object\n",
       "Customer.ID        object\n",
       "Customer.Name      object\n",
       "Segment            object\n",
       "Postal.Code       float64\n",
       "City               object\n",
       "State              object\n",
       "Country            object\n",
       "Region             object\n",
       "Market             object\n",
       "Product.ID         object\n",
       "Category           object\n",
       "Sub.Category       object\n",
       "Product.Name       object\n",
       "Sales              object\n",
       "Quantity            int64\n",
       "Discount          float64\n",
       "Profit             object\n",
       "Shipping.Cost     float64\n",
       "Order.Priority     object\n",
       "dtype: object"
      ]
     },
     "execution_count": 6,
     "metadata": {},
     "output_type": "execute_result"
    }
   ],
   "source": [
    "orders.dtypes"
   ]
  },
  {
   "cell_type": "code",
   "execution_count": 7,
   "metadata": {
    "collapsed": false
   },
   "outputs": [
    {
     "data": {
      "text/plain": [
       "0      $221.98\n",
       "1    $3,709.40\n",
       "2    $5,175.17\n",
       "3    $2,892.51\n",
       "4    $2,832.96\n",
       "Name: Sales, dtype: object"
      ]
     },
     "execution_count": 7,
     "metadata": {},
     "output_type": "execute_result"
    }
   ],
   "source": [
    "orders.Sales.head()"
   ]
  },
  {
   "cell_type": "code",
   "execution_count": 8,
   "metadata": {
    "collapsed": false
   },
   "outputs": [
    {
     "data": {
      "text/plain": [
       "0      $62.15\n",
       "1    -$288.77\n",
       "2     $919.97\n",
       "3     -$96.54\n",
       "4     $311.52\n",
       "Name: Profit, dtype: object"
      ]
     },
     "execution_count": 8,
     "metadata": {},
     "output_type": "execute_result"
    }
   ],
   "source": [
    "orders.Profit.head()"
   ]
  },
  {
   "cell_type": "code",
   "execution_count": 9,
   "metadata": {
    "collapsed": false
   },
   "outputs": [
    {
     "data": {
      "text/plain": [
       "0     221.98\n",
       "1    3709.40\n",
       "2    5175.17\n",
       "3    2892.51\n",
       "4    2832.96\n",
       "Name: Sales, dtype: float64"
      ]
     },
     "execution_count": 9,
     "metadata": {},
     "output_type": "execute_result"
    }
   ],
   "source": [
    "orders.Sales = orders.Sales.str.replace('$','')\n",
    "orders.Sales = orders.Sales.str.replace(',','')\n",
    "orders.Sales = pd.to_numeric(orders.Sales)\n",
    "orders.Sales.head()"
   ]
  },
  {
   "cell_type": "code",
   "execution_count": 10,
   "metadata": {
    "collapsed": false
   },
   "outputs": [
    {
     "data": {
      "text/plain": [
       "0     62.15\n",
       "1   -288.77\n",
       "2    919.97\n",
       "3    -96.54\n",
       "4    311.52\n",
       "Name: Profit, dtype: float64"
      ]
     },
     "execution_count": 10,
     "metadata": {},
     "output_type": "execute_result"
    }
   ],
   "source": [
    "orders.Profit = orders.Profit.str.replace('$','')\n",
    "orders.Profit = orders.Profit.str.replace(',','')\n",
    "orders.Profit = pd.to_numeric(orders.Profit)\n",
    "orders.Profit.head()"
   ]
  },
  {
   "cell_type": "code",
   "execution_count": 11,
   "metadata": {
    "collapsed": false
   },
   "outputs": [
    {
     "data": {
      "text/plain": [
       "0    11/11/14\n",
       "1      2/5/14\n",
       "2    10/17/14\n",
       "3     1/28/14\n",
       "4     11/5/14\n",
       "Name: Order.Date, dtype: object"
      ]
     },
     "execution_count": 11,
     "metadata": {},
     "output_type": "execute_result"
    }
   ],
   "source": [
    "orders['Order.Date'].head()"
   ]
  },
  {
   "cell_type": "code",
   "execution_count": 12,
   "metadata": {
    "collapsed": true
   },
   "outputs": [],
   "source": [
    "orders['Order.Date'] = pd.to_datetime(orders['Order.Date'])"
   ]
  },
  {
   "cell_type": "code",
   "execution_count": 13,
   "metadata": {
    "collapsed": false
   },
   "outputs": [
    {
     "data": {
      "text/plain": [
       "0   2014-11-11\n",
       "1   2014-02-05\n",
       "2   2014-10-17\n",
       "3   2014-01-28\n",
       "4   2014-11-05\n",
       "Name: Order.Date, dtype: datetime64[ns]"
      ]
     },
     "execution_count": 13,
     "metadata": {},
     "output_type": "execute_result"
    }
   ],
   "source": [
    "orders['Order.Date'].head()"
   ]
  },
  {
   "cell_type": "code",
   "execution_count": 14,
   "metadata": {
    "collapsed": false
   },
   "outputs": [
    {
     "data": {
      "text/plain": [
       "0    11\n",
       "1     2\n",
       "2    10\n",
       "3     1\n",
       "4    11\n",
       "Name: Order.Date, dtype: int64"
      ]
     },
     "execution_count": 14,
     "metadata": {},
     "output_type": "execute_result"
    }
   ],
   "source": [
    "orders['Order.Date'].dt.month.head()"
   ]
  },
  {
   "cell_type": "code",
   "execution_count": 15,
   "metadata": {
    "collapsed": false
   },
   "outputs": [],
   "source": [
    "orders['month'] = orders['Order.Date'].dt.month"
   ]
  },
  {
   "cell_type": "code",
   "execution_count": 16,
   "metadata": {
    "collapsed": false
   },
   "outputs": [
    {
     "data": {
      "text/plain": [
       "Index(['Row.ID', 'Order.ID', 'Order.Date', 'Ship.Date', 'Ship.Mode',\n",
       "       'Customer.ID', 'Customer.Name', 'Segment', 'Postal.Code', 'City',\n",
       "       'State', 'Country', 'Region', 'Market', 'Product.ID', 'Category',\n",
       "       'Sub.Category', 'Product.Name', 'Sales', 'Quantity', 'Discount',\n",
       "       'Profit', 'Shipping.Cost', 'Order.Priority', 'month'],\n",
       "      dtype='object')"
      ]
     },
     "execution_count": 16,
     "metadata": {},
     "output_type": "execute_result"
    }
   ],
   "source": [
    "orders.columns"
   ]
  },
  {
   "cell_type": "code",
   "execution_count": 42,
   "metadata": {
    "collapsed": false
   },
   "outputs": [],
   "source": [
    "#orders.groupby('month')['Order.ID'].count()"
   ]
  },
  {
   "cell_type": "code",
   "execution_count": 29,
   "metadata": {
    "collapsed": true
   },
   "outputs": [],
   "source": [
    "orders_by_month = orders.groupby('month')"
   ]
  },
  {
   "cell_type": "code",
   "execution_count": 30,
   "metadata": {
    "collapsed": false
   },
   "outputs": [
    {
     "data": {
      "text/plain": [
       "{1: Int64Index([    3,    18,    38,    39,    64,    65,    84,    93,    94,\n",
       "               117,\n",
       "             ...\n",
       "             51103, 51108, 51121, 51123, 51133, 51138, 51183, 51189, 51199,\n",
       "             51234],\n",
       "            dtype='int64', length=2611),\n",
       " 2: Int64Index([    1,    16,    23,    29,   118,   155,   177,   204,   215,\n",
       "               249,\n",
       "             ...\n",
       "             50838, 50933, 50969, 50975, 50986, 51016, 51066, 51205, 51212,\n",
       "             51288],\n",
       "            dtype='int64', length=2209),\n",
       " 3: Int64Index([    9,    10,    21,    27,    45,    46,    60,    72,   109,\n",
       "               110,\n",
       "             ...\n",
       "             51198, 51200, 51216, 51221, 51223, 51225, 51229, 51243, 51246,\n",
       "             51275],\n",
       "            dtype='int64', length=3007),\n",
       " 4: Int64Index([    7,    11,    28,    56,   107,   111,   113,   157,   175,\n",
       "               207,\n",
       "             ...\n",
       "             51195, 51204, 51206, 51207, 51210, 51215, 51265, 51268, 51271,\n",
       "             51272],\n",
       "            dtype='int64', length=3032),\n",
       " 5: Int64Index([   22,    36,    48,    55,    57,    59,    75,    90,    95,\n",
       "               114,\n",
       "             ...\n",
       "             51065, 51140, 51148, 51164, 51226, 51258, 51269, 51283, 51286,\n",
       "             51289],\n",
       "            dtype='int64', length=3787),\n",
       " 6: Int64Index([    5,    14,    70,    87,   102,   137,   167,   174,   191,\n",
       "               198,\n",
       "             ...\n",
       "             51217, 51222, 51233, 51242, 51252, 51257, 51260, 51267, 51281,\n",
       "             51285],\n",
       "            dtype='int64', length=5302),\n",
       " 7: Int64Index([   15,    24,    31,   100,   106,   132,   166,   180,   184,\n",
       "               194,\n",
       "             ...\n",
       "             51166, 51179, 51196, 51197, 51202, 51247, 51248, 51256, 51261,\n",
       "             51280],\n",
       "            dtype='int64', length=3195),\n",
       " 8: Int64Index([   20,    40,    47,    58,    62,    63,    73,    76,   104,\n",
       "               115,\n",
       "             ...\n",
       "             51145, 51149, 51231, 51255, 51262, 51266, 51270, 51276, 51282,\n",
       "             51287],\n",
       "            dtype='int64', length=5065),\n",
       " 9: Int64Index([   17,    25,    35,    42,    44,    51,    74,    82,    83,\n",
       "                85,\n",
       "             ...\n",
       "             51193, 51208, 51209, 51219, 51249, 51251, 51259, 51273, 51274,\n",
       "             51279],\n",
       "            dtype='int64', length=5958),\n",
       " 10: Int64Index([    2,    50,    79,    81,    88,    91,   103,   120,   146,\n",
       "               160,\n",
       "             ...\n",
       "             51159, 51160, 51170, 51171, 51192, 51194, 51203, 51214, 51227,\n",
       "             51239],\n",
       "            dtype='int64', length=4556),\n",
       " 11: Int64Index([    0,     4,     6,     8,    13,    33,    41,    68,    69,\n",
       "                71,\n",
       "             ...\n",
       "             51218, 51230, 51235, 51236, 51237, 51241, 51245, 51253, 51264,\n",
       "             51277],\n",
       "            dtype='int64', length=6311),\n",
       " 12: Int64Index([   12,    19,    26,    30,    32,    34,    37,    43,    49,\n",
       "                52,\n",
       "             ...\n",
       "             51228, 51232, 51238, 51240, 51244, 51250, 51254, 51263, 51278,\n",
       "             51284],\n",
       "            dtype='int64', length=6257)}"
      ]
     },
     "execution_count": 30,
     "metadata": {},
     "output_type": "execute_result"
    }
   ],
   "source": [
    "orders_by_month.groups"
   ]
  },
  {
   "cell_type": "code",
   "execution_count": 28,
   "metadata": {
    "collapsed": false
   },
   "outputs": [
    {
     "data": {
      "text/plain": [
       "month\n",
       "1      8872\n",
       "2      7429\n",
       "3     10390\n",
       "4     10466\n",
       "5     13196\n",
       "6     18009\n",
       "7     11046\n",
       "8     17596\n",
       "9     20479\n",
       "10    16303\n",
       "11    22379\n",
       "12    22147\n",
       "Name: Quantity, dtype: int64"
      ]
     },
     "execution_count": 28,
     "metadata": {},
     "output_type": "execute_result"
    }
   ],
   "source": [
    "orders_by_month['Quantity'].sum()"
   ]
  },
  {
   "cell_type": "code",
   "execution_count": 31,
   "metadata": {
    "collapsed": false
   },
   "outputs": [
    {
     "data": {
      "text/plain": [
       "<matplotlib.axes._subplots.AxesSubplot at 0x123997828>"
      ]
     },
     "execution_count": 31,
     "metadata": {},
     "output_type": "execute_result"
    },
    {
     "data": {
      "image/png": "[encoded data removed]",
      "text/plain": [
       "<Figure size 600x400 with 1 Axes>"
      ]
     },
     "metadata": {},
     "output_type": "display_data"
    }
   ],
   "source": [
    "orders_by_month['Quantity'].sum().plot.bar()"
   ]
  },
  {
   "cell_type": "code",
   "execution_count": 35,
   "metadata": {
    "collapsed": false
   },
   "outputs": [],
   "source": [
    "#orders.groupby('month')['Order.ID'].count().plot.bar()\n",
    "#plt.show()"
   ]
  },
  {
   "cell_type": "code",
   "execution_count": 43,
   "metadata": {
    "collapsed": false
   },
   "outputs": [
    {
     "data": {
      "text/plain": [
       "month  Category       \n",
       "1      Furniture           1750\n",
       "       Office Supplies     5480\n",
       "       Technology          1642\n",
       "2      Furniture           1494\n",
       "       Office Supplies     4340\n",
       "       Technology          1595\n",
       "3      Furniture           2098\n",
       "       Office Supplies     6283\n",
       "       Technology          2009\n",
       "4      Furniture           2005\n",
       "       Office Supplies     6391\n",
       "       Technology          2070\n",
       "5      Furniture           2484\n",
       "       Office Supplies     8170\n",
       "       Technology          2542\n",
       "6      Furniture           3434\n",
       "       Office Supplies    11012\n",
       "       Technology          3563\n",
       "7      Furniture           2157\n",
       "       Office Supplies     6618\n",
       "       Technology          2271\n",
       "8      Furniture           3059\n",
       "       Office Supplies    11019\n",
       "       Technology          3518\n",
       "9      Furniture           4111\n",
       "       Office Supplies    12572\n",
       "       Technology          3796\n",
       "10     Furniture           3323\n",
       "       Office Supplies     9585\n",
       "       Technology          3395\n",
       "11     Furniture           4471\n",
       "       Office Supplies    13529\n",
       "       Technology          4379\n",
       "12     Furniture           4506\n",
       "       Office Supplies    13245\n",
       "       Technology          4396\n",
       "Name: Quantity, dtype: int64"
      ]
     },
     "execution_count": 43,
     "metadata": {},
     "output_type": "execute_result"
    }
   ],
   "source": [
    "orders.groupby(['month','Category'])['Quantity'].sum()"
   ]
  },
  {
   "cell_type": "code",
   "execution_count": 33,
   "metadata": {
    "collapsed": false
   },
   "outputs": [
    {
     "data": {
      "text/plain": [
       "<matplotlib.axes._subplots.AxesSubplot at 0x12307d0f0>"
      ]
     },
     "execution_count": 33,
     "metadata": {},
     "output_type": "execute_result"
    },
    {
     "data": {
      "image/png": "[encoded data removed]",
      "text/plain": [
       "<Figure size 600x400 with 1 Axes>"
      ]
     },
     "metadata": {},
     "output_type": "display_data"
    }
   ],
   "source": [
    "orders.groupby(['month','Category'])['Quantity'].sum().plot.bar()"
   ]
  },
  {
   "cell_type": "code",
   "execution_count": 34,
   "metadata": {
    "collapsed": false
   },
   "outputs": [],
   "source": [
    "#orders.groupby(['month','Category'])['Order.ID'].count().plot.bar()"
   ]
  },
  {
   "cell_type": "code",
   "execution_count": 22,
   "metadata": {
    "collapsed": true
   },
   "outputs": [],
   "source": []
  },
  {
   "cell_type": "code",
   "execution_count": 36,
   "metadata": {
    "collapsed": false
   },
   "outputs": [
    {
     "data": {
      "text/plain": [
       "array(['Technology', 'Furniture', 'Office Supplies'], dtype=object)"
      ]
     },
     "execution_count": 36,
     "metadata": {},
     "output_type": "execute_result"
    }
   ],
   "source": [
    "orders.Category.unique()"
   ]
  },
  {
   "cell_type": "code",
   "execution_count": 39,
   "metadata": {
    "collapsed": false
   },
   "outputs": [
    {
     "data": {
      "text/plain": [
       "<matplotlib.axes._subplots.AxesSubplot at 0x125cabc88>"
      ]
     },
     "execution_count": 39,
     "metadata": {},
     "output_type": "execute_result"
    },
    {
     "data": {
      "image/png": "[encoded data removed]",
      "text/plain": [
       "<Figure size 600x400 with 1 Axes>"
      ]
     },
     "metadata": {},
     "output_type": "display_data"
    }
   ],
   "source": [
    "orders[orders.Category=='Technology'].groupby('month')['Quantity'].sum().plot.bar()"
   ]
  },
  {
   "cell_type": "code",
   "execution_count": 40,
   "metadata": {
    "collapsed": false
   },
   "outputs": [
    {
     "data": {
      "text/plain": [
       "<matplotlib.axes._subplots.AxesSubplot at 0x125a2ea90>"
      ]
     },
     "execution_count": 40,
     "metadata": {},
     "output_type": "execute_result"
    },
    {
     "data": {
      "image/png": "[encoded data removed]",
      "text/plain": [
       "<Figure size 600x400 with 1 Axes>"
      ]
     },
     "metadata": {},
     "output_type": "display_data"
    }
   ],
   "source": [
    "orders[orders.Category=='Furniture'].groupby('month')['Quantity'].sum().plot.bar()"
   ]
  },
  {
   "cell_type": "code",
   "execution_count": 41,
   "metadata": {
    "collapsed": false
   },
   "outputs": [
    {
     "data": {
      "text/plain": [
       "<matplotlib.axes._subplots.AxesSubplot at 0x1237279e8>"
      ]
     },
     "execution_count": 41,
     "metadata": {},
     "output_type": "execute_result"
    },
    {
     "data": {
      "image/png": "[encoded data removed]",
      "text/plain": [
       "<Figure size 600x400 with 1 Axes>"
      ]
     },
     "metadata": {},
     "output_type": "display_data"
    }
   ],
   "source": [
    "orders[orders.Category=='Office Supplies'].groupby('month')['Quantity'].sum().plot.bar()"
   ]
  },
  {
   "cell_type": "code",
   "execution_count": 47,
   "metadata": {
    "collapsed": false
   },
   "outputs": [
    {
     "data": {
      "text/plain": [
       "month  Category       \n",
       "1      Furniture           1750\n",
       "       Office Supplies     5480\n",
       "       Technology          1642\n",
       "2      Furniture           1494\n",
       "       Office Supplies     4340\n",
       "       Technology          1595\n",
       "3      Furniture           2098\n",
       "       Office Supplies     6283\n",
       "       Technology          2009\n",
       "4      Furniture           2005\n",
       "       Office Supplies     6391\n",
       "       Technology          2070\n",
       "5      Furniture           2484\n",
       "       Office Supplies     8170\n",
       "       Technology          2542\n",
       "6      Furniture           3434\n",
       "       Office Supplies    11012\n",
       "       Technology          3563\n",
       "7      Furniture           2157\n",
       "       Office Supplies     6618\n",
       "       Technology          2271\n",
       "8      Furniture           3059\n",
       "       Office Supplies    11019\n",
       "       Technology          3518\n",
       "9      Furniture           4111\n",
       "       Office Supplies    12572\n",
       "       Technology          3796\n",
       "10     Furniture           3323\n",
       "       Office Supplies     9585\n",
       "       Technology          3395\n",
       "11     Furniture           4471\n",
       "       Office Supplies    13529\n",
       "       Technology          4379\n",
       "12     Furniture           4506\n",
       "       Office Supplies    13245\n",
       "       Technology          4396\n",
       "Name: Quantity, dtype: int64"
      ]
     },
     "execution_count": 47,
     "metadata": {},
     "output_type": "execute_result"
    }
   ],
   "source": [
    "orders.groupby(['month','Category'])['Quantity'].sum()"
   ]
  },
  {
   "cell_type": "code",
   "execution_count": 125,
   "metadata": {
    "collapsed": false
   },
   "outputs": [],
   "source": [
    "new_df  = pd.DataFrame(orders.groupby(['month','Category'])['Quantity'].sum().reset_index())"
   ]
  },
  {
   "cell_type": "code",
   "execution_count": 137,
   "metadata": {
    "collapsed": false
   },
   "outputs": [],
   "source": [
    "new_df = new_df.set_index('month')"
   ]
  },
  {
   "cell_type": "code",
   "execution_count": 138,
   "metadata": {
    "collapsed": false
   },
   "outputs": [
    {
     "data": {
      "text/html": [
       "<div>\n",
       "<table border=\"1\" class=\"dataframe\">\n",
       "  <thead>\n",
       "    <tr style=\"text-align: right;\">\n",
       "      <th></th>\n",
       "      <th>Category</th>\n",
       "      <th>Quantity</th>\n",
       "    </tr>\n",
       "    <tr>\n",
       "      <th>month</th>\n",
       "      <th></th>\n",
       "      <th></th>\n",
       "    </tr>\n",
       "  </thead>\n",
       "  <tbody>\n",
       "    <tr>\n",
       "      <th>1</th>\n",
       "      <td>Furniture</td>\n",
       "      <td>1750</td>\n",
       "    </tr>\n",
       "    <tr>\n",
       "      <th>1</th>\n",
       "      <td>Office Supplies</td>\n",
       "      <td>5480</td>\n",
       "    </tr>\n",
       "    <tr>\n",
       "      <th>1</th>\n",
       "      <td>Technology</td>\n",
       "      <td>1642</td>\n",
       "    </tr>\n",
       "    <tr>\n",
       "      <th>2</th>\n",
       "      <td>Furniture</td>\n",
       "      <td>1494</td>\n",
       "    </tr>\n",
       "    <tr>\n",
       "      <th>2</th>\n",
       "      <td>Office Supplies</td>\n",
       "      <td>4340</td>\n",
       "    </tr>\n",
       "  </tbody>\n",
       "</table>\n",
       "</div>"
      ],
      "text/plain": [
       "              Category  Quantity\n",
       "month                           \n",
       "1            Furniture      1750\n",
       "1      Office Supplies      5480\n",
       "1           Technology      1642\n",
       "2            Furniture      1494\n",
       "2      Office Supplies      4340"
      ]
     },
     "execution_count": 138,
     "metadata": {},
     "output_type": "execute_result"
    }
   ],
   "source": [
    "new_df.head()"
   ]
  },
  {
   "cell_type": "code",
   "execution_count": 123,
   "metadata": {
    "collapsed": false
   },
   "outputs": [
    {
     "data": {
      "text/plain": [
       "Index(['Quantity'], dtype='object')"
      ]
     },
     "execution_count": 123,
     "metadata": {},
     "output_type": "execute_result"
    }
   ],
   "source": [
    "new_df.columns"
   ]
  },
  {
   "cell_type": "code",
   "execution_count": 60,
   "metadata": {
    "collapsed": false
   },
   "outputs": [
    {
     "data": {
      "text/plain": [
       "pandas.core.frame.DataFrame"
      ]
     },
     "execution_count": 60,
     "metadata": {},
     "output_type": "execute_result"
    }
   ],
   "source": [
    "type(new_df)"
   ]
  },
  {
   "cell_type": "code",
   "execution_count": 63,
   "metadata": {
    "collapsed": false
   },
   "outputs": [
    {
     "data": {
      "text/plain": [
       "Quantity    int64\n",
       "dtype: object"
      ]
     },
     "execution_count": 63,
     "metadata": {},
     "output_type": "execute_result"
    }
   ],
   "source": [
    "new_df.dtypes"
   ]
  },
  {
   "cell_type": "code",
   "execution_count": 139,
   "metadata": {
    "collapsed": false
   },
   "outputs": [
    {
     "data": {
      "text/plain": [
       "Category\n",
       "Furniture          AxesSubplot(0.125,0.125;0.775x0.755)\n",
       "Office Supplies    AxesSubplot(0.125,0.125;0.775x0.755)\n",
       "Technology         AxesSubplot(0.125,0.125;0.775x0.755)\n",
       "Name: Quantity, dtype: object"
      ]
     },
     "execution_count": 139,
     "metadata": {},
     "output_type": "execute_result"
    },
    {
     "data": {
      "image/png": "[encoded data removed]",
      "text/plain": [
       "<Figure size 600x400 with 1 Axes>"
      ]
     },
     "metadata": {},
     "output_type": "display_data"
    }
   ],
   "source": [
    "new_df.groupby('Category')['Quantity'].plot()"
   ]
  },
  {
   "cell_type": "code",
   "execution_count": null,
   "metadata": {
    "collapsed": true
   },
   "outputs": [],
   "source": []
  },
  {
   "cell_type": "code",
   "execution_count": null,
   "metadata": {
    "collapsed": true
   },
   "outputs": [],
   "source": []
  },
  {
   "cell_type": "code",
   "execution_count": null,
   "metadata": {
    "collapsed": false
   },
   "outputs": [],
   "source": []
  },
  {
   "cell_type": "code",
   "execution_count": 71,
   "metadata": {
    "collapsed": true
   },
   "outputs": [],
   "source": [
    "returns = pd.read_csv('data/returns.csv')"
   ]
  },
  {
   "cell_type": "code",
   "execution_count": 72,
   "metadata": {
    "collapsed": false
   },
   "outputs": [
    {
     "data": {
      "text/html": [
       "<div>\n",
       "<table border=\"1\" class=\"dataframe\">\n",
       "  <thead>\n",
       "    <tr style=\"text-align: right;\">\n",
       "      <th></th>\n",
       "      <th>Returned</th>\n",
       "      <th>Order ID</th>\n",
       "      <th>Region</th>\n",
       "    </tr>\n",
       "  </thead>\n",
       "  <tbody>\n",
       "    <tr>\n",
       "      <th>0</th>\n",
       "      <td>Yes</td>\n",
       "      <td>CA-2012-SA20830140-41210</td>\n",
       "      <td>Central US</td>\n",
       "    </tr>\n",
       "    <tr>\n",
       "      <th>1</th>\n",
       "      <td>Yes</td>\n",
       "      <td>IN-2012-PB19210127-41259</td>\n",
       "      <td>Eastern Asia</td>\n",
       "    </tr>\n",
       "    <tr>\n",
       "      <th>2</th>\n",
       "      <td>Yes</td>\n",
       "      <td>CA-2012-SC20095140-41174</td>\n",
       "      <td>Central US</td>\n",
       "    </tr>\n",
       "    <tr>\n",
       "      <th>3</th>\n",
       "      <td>Yes</td>\n",
       "      <td>IN-2015-JH158207-42140</td>\n",
       "      <td>Oceania</td>\n",
       "    </tr>\n",
       "    <tr>\n",
       "      <th>4</th>\n",
       "      <td>Yes</td>\n",
       "      <td>IN-2014-LC168857-41747</td>\n",
       "      <td>Oceania</td>\n",
       "    </tr>\n",
       "  </tbody>\n",
       "</table>\n",
       "</div>"
      ],
      "text/plain": [
       "  Returned                  Order ID        Region\n",
       "0      Yes  CA-2012-SA20830140-41210    Central US\n",
       "1      Yes  IN-2012-PB19210127-41259  Eastern Asia\n",
       "2      Yes  CA-2012-SC20095140-41174    Central US\n",
       "3      Yes    IN-2015-JH158207-42140       Oceania\n",
       "4      Yes    IN-2014-LC168857-41747       Oceania"
      ]
     },
     "execution_count": 72,
     "metadata": {},
     "output_type": "execute_result"
    }
   ],
   "source": [
    "returns.head()"
   ]
  },
  {
   "cell_type": "code",
   "execution_count": 73,
   "metadata": {
    "collapsed": true
   },
   "outputs": [],
   "source": [
    "order_return = pd.merge(orders, returns, left_on='Order.ID', right_on = 'Order ID')"
   ]
  },
  {
   "cell_type": "code",
   "execution_count": 74,
   "metadata": {
    "collapsed": false
   },
   "outputs": [
    {
     "data": {
      "text/html": [
       "<div>\n",
       "<table border=\"1\" class=\"dataframe\">\n",
       "  <thead>\n",
       "    <tr style=\"text-align: right;\">\n",
       "      <th></th>\n",
       "      <th>Row.ID</th>\n",
       "      <th>Order.ID</th>\n",
       "      <th>Order.Date</th>\n",
       "      <th>Ship.Date</th>\n",
       "      <th>Ship.Mode</th>\n",
       "      <th>Customer.ID</th>\n",
       "      <th>Customer.Name</th>\n",
       "      <th>Segment</th>\n",
       "      <th>Postal.Code</th>\n",
       "      <th>City</th>\n",
       "      <th>...</th>\n",
       "      <th>Sales</th>\n",
       "      <th>Quantity</th>\n",
       "      <th>Discount</th>\n",
       "      <th>Profit</th>\n",
       "      <th>Shipping.Cost</th>\n",
       "      <th>Order.Priority</th>\n",
       "      <th>month</th>\n",
       "      <th>Returned</th>\n",
       "      <th>Order ID</th>\n",
       "      <th>Region_y</th>\n",
       "    </tr>\n",
       "  </thead>\n",
       "  <tbody>\n",
       "    <tr>\n",
       "      <th>0</th>\n",
       "      <td>30191</td>\n",
       "      <td>IN-2012-PB19210127-41259</td>\n",
       "      <td>2012-12-16</td>\n",
       "      <td>12/19/12</td>\n",
       "      <td>First Class</td>\n",
       "      <td>PB-19210127</td>\n",
       "      <td>Phillip Breyer</td>\n",
       "      <td>Corporate</td>\n",
       "      <td>NaN</td>\n",
       "      <td>Taipei</td>\n",
       "      <td>...</td>\n",
       "      <td>1715.16</td>\n",
       "      <td>2</td>\n",
       "      <td>0.0</td>\n",
       "      <td>720.36</td>\n",
       "      <td>725.57</td>\n",
       "      <td>Critical</td>\n",
       "      <td>12</td>\n",
       "      <td>Yes</td>\n",
       "      <td>IN-2012-PB19210127-41259</td>\n",
       "      <td>Eastern Asia</td>\n",
       "    </tr>\n",
       "    <tr>\n",
       "      <th>1</th>\n",
       "      <td>30190</td>\n",
       "      <td>IN-2012-PB19210127-41259</td>\n",
       "      <td>2012-12-16</td>\n",
       "      <td>12/19/12</td>\n",
       "      <td>First Class</td>\n",
       "      <td>PB-19210127</td>\n",
       "      <td>Phillip Breyer</td>\n",
       "      <td>Corporate</td>\n",
       "      <td>NaN</td>\n",
       "      <td>Taipei</td>\n",
       "      <td>...</td>\n",
       "      <td>2197.50</td>\n",
       "      <td>5</td>\n",
       "      <td>0.0</td>\n",
       "      <td>153.75</td>\n",
       "      <td>627.27</td>\n",
       "      <td>Critical</td>\n",
       "      <td>12</td>\n",
       "      <td>Yes</td>\n",
       "      <td>IN-2012-PB19210127-41259</td>\n",
       "      <td>Eastern Asia</td>\n",
       "    </tr>\n",
       "    <tr>\n",
       "      <th>2</th>\n",
       "      <td>30187</td>\n",
       "      <td>IN-2012-PB19210127-41259</td>\n",
       "      <td>2012-12-16</td>\n",
       "      <td>12/19/12</td>\n",
       "      <td>First Class</td>\n",
       "      <td>PB-19210127</td>\n",
       "      <td>Phillip Breyer</td>\n",
       "      <td>Corporate</td>\n",
       "      <td>NaN</td>\n",
       "      <td>Taipei</td>\n",
       "      <td>...</td>\n",
       "      <td>1356.03</td>\n",
       "      <td>3</td>\n",
       "      <td>0.0</td>\n",
       "      <td>311.85</td>\n",
       "      <td>458.97</td>\n",
       "      <td>Critical</td>\n",
       "      <td>12</td>\n",
       "      <td>Yes</td>\n",
       "      <td>IN-2012-PB19210127-41259</td>\n",
       "      <td>Eastern Asia</td>\n",
       "    </tr>\n",
       "    <tr>\n",
       "      <th>3</th>\n",
       "      <td>30193</td>\n",
       "      <td>IN-2012-PB19210127-41259</td>\n",
       "      <td>2012-12-16</td>\n",
       "      <td>12/19/12</td>\n",
       "      <td>First Class</td>\n",
       "      <td>PB-19210127</td>\n",
       "      <td>Phillip Breyer</td>\n",
       "      <td>Corporate</td>\n",
       "      <td>NaN</td>\n",
       "      <td>Taipei</td>\n",
       "      <td>...</td>\n",
       "      <td>882.15</td>\n",
       "      <td>5</td>\n",
       "      <td>0.0</td>\n",
       "      <td>114.60</td>\n",
       "      <td>203.92</td>\n",
       "      <td>Critical</td>\n",
       "      <td>12</td>\n",
       "      <td>Yes</td>\n",
       "      <td>IN-2012-PB19210127-41259</td>\n",
       "      <td>Eastern Asia</td>\n",
       "    </tr>\n",
       "    <tr>\n",
       "      <th>4</th>\n",
       "      <td>30189</td>\n",
       "      <td>IN-2012-PB19210127-41259</td>\n",
       "      <td>2012-12-16</td>\n",
       "      <td>12/19/12</td>\n",
       "      <td>First Class</td>\n",
       "      <td>PB-19210127</td>\n",
       "      <td>Phillip Breyer</td>\n",
       "      <td>Corporate</td>\n",
       "      <td>NaN</td>\n",
       "      <td>Taipei</td>\n",
       "      <td>...</td>\n",
       "      <td>148.32</td>\n",
       "      <td>3</td>\n",
       "      <td>0.0</td>\n",
       "      <td>68.22</td>\n",
       "      <td>25.48</td>\n",
       "      <td>Critical</td>\n",
       "      <td>12</td>\n",
       "      <td>Yes</td>\n",
       "      <td>IN-2012-PB19210127-41259</td>\n",
       "      <td>Eastern Asia</td>\n",
       "    </tr>\n",
       "  </tbody>\n",
       "</table>\n",
       "<p>5 rows × 28 columns</p>\n",
       "</div>"
      ],
      "text/plain": [
       "   Row.ID                  Order.ID Order.Date Ship.Date    Ship.Mode  \\\n",
       "0   30191  IN-2012-PB19210127-41259 2012-12-16  12/19/12  First Class   \n",
       "1   30190  IN-2012-PB19210127-41259 2012-12-16  12/19/12  First Class   \n",
       "2   30187  IN-2012-PB19210127-41259 2012-12-16  12/19/12  First Class   \n",
       "3   30193  IN-2012-PB19210127-41259 2012-12-16  12/19/12  First Class   \n",
       "4   30189  IN-2012-PB19210127-41259 2012-12-16  12/19/12  First Class   \n",
       "\n",
       "   Customer.ID   Customer.Name    Segment  Postal.Code    City      ...       \\\n",
       "0  PB-19210127  Phillip Breyer  Corporate          NaN  Taipei      ...        \n",
       "1  PB-19210127  Phillip Breyer  Corporate          NaN  Taipei      ...        \n",
       "2  PB-19210127  Phillip Breyer  Corporate          NaN  Taipei      ...        \n",
       "3  PB-19210127  Phillip Breyer  Corporate          NaN  Taipei      ...        \n",
       "4  PB-19210127  Phillip Breyer  Corporate          NaN  Taipei      ...        \n",
       "\n",
       "     Sales Quantity Discount  Profit Shipping.Cost Order.Priority month  \\\n",
       "0  1715.16        2      0.0  720.36        725.57       Critical    12   \n",
       "1  2197.50        5      0.0  153.75        627.27       Critical    12   \n",
       "2  1356.03        3      0.0  311.85        458.97       Critical    12   \n",
       "3   882.15        5      0.0  114.60        203.92       Critical    12   \n",
       "4   148.32        3      0.0   68.22         25.48       Critical    12   \n",
       "\n",
       "  Returned                  Order ID      Region_y  \n",
       "0      Yes  IN-2012-PB19210127-41259  Eastern Asia  \n",
       "1      Yes  IN-2012-PB19210127-41259  Eastern Asia  \n",
       "2      Yes  IN-2012-PB19210127-41259  Eastern Asia  \n",
       "3      Yes  IN-2012-PB19210127-41259  Eastern Asia  \n",
       "4      Yes  IN-2012-PB19210127-41259  Eastern Asia  \n",
       "\n",
       "[5 rows x 28 columns]"
      ]
     },
     "execution_count": 74,
     "metadata": {},
     "output_type": "execute_result"
    }
   ],
   "source": [
    "order_return.head()"
   ]
  },
  {
   "cell_type": "code",
   "execution_count": 76,
   "metadata": {
    "collapsed": false
   },
   "outputs": [
    {
     "data": {
      "text/plain": [
       "(2220, 28)"
      ]
     },
     "execution_count": 76,
     "metadata": {},
     "output_type": "execute_result"
    }
   ],
   "source": [
    "order_return.shape"
   ]
  },
  {
   "cell_type": "code",
   "execution_count": 80,
   "metadata": {
    "collapsed": true
   },
   "outputs": [],
   "source": [
    "order_return['year'] = order_return['Order.Date'].dt.year"
   ]
  },
  {
   "cell_type": "code",
   "execution_count": 81,
   "metadata": {
    "collapsed": false
   },
   "outputs": [
    {
     "data": {
      "text/plain": [
       "Index(['Row.ID', 'Order.ID', 'Order.Date', 'Ship.Date', 'Ship.Mode',\n",
       "       'Customer.ID', 'Customer.Name', 'Segment', 'Postal.Code', 'City',\n",
       "       'State', 'Country', 'Region_x', 'Market', 'Product.ID', 'Category',\n",
       "       'Sub.Category', 'Product.Name', 'Sales', 'Quantity', 'Discount',\n",
       "       'Profit', 'Shipping.Cost', 'Order.Priority', 'month', 'Returned',\n",
       "       'Order ID', 'Region_y', 'year'],\n",
       "      dtype='object')"
      ]
     },
     "execution_count": 81,
     "metadata": {},
     "output_type": "execute_result"
    }
   ],
   "source": [
    "order_return.columns"
   ]
  },
  {
   "cell_type": "code",
   "execution_count": 84,
   "metadata": {
    "collapsed": false
   },
   "outputs": [
    {
     "data": {
      "text/html": [
       "<div>\n",
       "<table border=\"1\" class=\"dataframe\">\n",
       "  <thead>\n",
       "    <tr style=\"text-align: right;\">\n",
       "      <th></th>\n",
       "      <th>Row.ID</th>\n",
       "      <th>Order.ID</th>\n",
       "      <th>Order.Date</th>\n",
       "      <th>Ship.Date</th>\n",
       "      <th>Ship.Mode</th>\n",
       "      <th>Customer.ID</th>\n",
       "      <th>Customer.Name</th>\n",
       "      <th>Segment</th>\n",
       "      <th>Postal.Code</th>\n",
       "      <th>City</th>\n",
       "      <th>...</th>\n",
       "      <th>Quantity</th>\n",
       "      <th>Discount</th>\n",
       "      <th>Profit</th>\n",
       "      <th>Shipping.Cost</th>\n",
       "      <th>Order.Priority</th>\n",
       "      <th>month</th>\n",
       "      <th>Returned</th>\n",
       "      <th>Order ID</th>\n",
       "      <th>Region_y</th>\n",
       "      <th>year</th>\n",
       "    </tr>\n",
       "  </thead>\n",
       "  <tbody>\n",
       "    <tr>\n",
       "      <th>0</th>\n",
       "      <td>30191</td>\n",
       "      <td>IN-2012-PB19210127-41259</td>\n",
       "      <td>2012-12-16</td>\n",
       "      <td>12/19/12</td>\n",
       "      <td>First Class</td>\n",
       "      <td>PB-19210127</td>\n",
       "      <td>Phillip Breyer</td>\n",
       "      <td>Corporate</td>\n",
       "      <td>NaN</td>\n",
       "      <td>Taipei</td>\n",
       "      <td>...</td>\n",
       "      <td>2</td>\n",
       "      <td>0.0</td>\n",
       "      <td>720.36</td>\n",
       "      <td>725.57</td>\n",
       "      <td>Critical</td>\n",
       "      <td>12</td>\n",
       "      <td>Yes</td>\n",
       "      <td>IN-2012-PB19210127-41259</td>\n",
       "      <td>Eastern Asia</td>\n",
       "      <td>2012</td>\n",
       "    </tr>\n",
       "    <tr>\n",
       "      <th>1</th>\n",
       "      <td>30190</td>\n",
       "      <td>IN-2012-PB19210127-41259</td>\n",
       "      <td>2012-12-16</td>\n",
       "      <td>12/19/12</td>\n",
       "      <td>First Class</td>\n",
       "      <td>PB-19210127</td>\n",
       "      <td>Phillip Breyer</td>\n",
       "      <td>Corporate</td>\n",
       "      <td>NaN</td>\n",
       "      <td>Taipei</td>\n",
       "      <td>...</td>\n",
       "      <td>5</td>\n",
       "      <td>0.0</td>\n",
       "      <td>153.75</td>\n",
       "      <td>627.27</td>\n",
       "      <td>Critical</td>\n",
       "      <td>12</td>\n",
       "      <td>Yes</td>\n",
       "      <td>IN-2012-PB19210127-41259</td>\n",
       "      <td>Eastern Asia</td>\n",
       "      <td>2012</td>\n",
       "    </tr>\n",
       "    <tr>\n",
       "      <th>2</th>\n",
       "      <td>30187</td>\n",
       "      <td>IN-2012-PB19210127-41259</td>\n",
       "      <td>2012-12-16</td>\n",
       "      <td>12/19/12</td>\n",
       "      <td>First Class</td>\n",
       "      <td>PB-19210127</td>\n",
       "      <td>Phillip Breyer</td>\n",
       "      <td>Corporate</td>\n",
       "      <td>NaN</td>\n",
       "      <td>Taipei</td>\n",
       "      <td>...</td>\n",
       "      <td>3</td>\n",
       "      <td>0.0</td>\n",
       "      <td>311.85</td>\n",
       "      <td>458.97</td>\n",
       "      <td>Critical</td>\n",
       "      <td>12</td>\n",
       "      <td>Yes</td>\n",
       "      <td>IN-2012-PB19210127-41259</td>\n",
       "      <td>Eastern Asia</td>\n",
       "      <td>2012</td>\n",
       "    </tr>\n",
       "    <tr>\n",
       "      <th>3</th>\n",
       "      <td>30193</td>\n",
       "      <td>IN-2012-PB19210127-41259</td>\n",
       "      <td>2012-12-16</td>\n",
       "      <td>12/19/12</td>\n",
       "      <td>First Class</td>\n",
       "      <td>PB-19210127</td>\n",
       "      <td>Phillip Breyer</td>\n",
       "      <td>Corporate</td>\n",
       "      <td>NaN</td>\n",
       "      <td>Taipei</td>\n",
       "      <td>...</td>\n",
       "      <td>5</td>\n",
       "      <td>0.0</td>\n",
       "      <td>114.60</td>\n",
       "      <td>203.92</td>\n",
       "      <td>Critical</td>\n",
       "      <td>12</td>\n",
       "      <td>Yes</td>\n",
       "      <td>IN-2012-PB19210127-41259</td>\n",
       "      <td>Eastern Asia</td>\n",
       "      <td>2012</td>\n",
       "    </tr>\n",
       "    <tr>\n",
       "      <th>4</th>\n",
       "      <td>30189</td>\n",
       "      <td>IN-2012-PB19210127-41259</td>\n",
       "      <td>2012-12-16</td>\n",
       "      <td>12/19/12</td>\n",
       "      <td>First Class</td>\n",
       "      <td>PB-19210127</td>\n",
       "      <td>Phillip Breyer</td>\n",
       "      <td>Corporate</td>\n",
       "      <td>NaN</td>\n",
       "      <td>Taipei</td>\n",
       "      <td>...</td>\n",
       "      <td>3</td>\n",
       "      <td>0.0</td>\n",
       "      <td>68.22</td>\n",
       "      <td>25.48</td>\n",
       "      <td>Critical</td>\n",
       "      <td>12</td>\n",
       "      <td>Yes</td>\n",
       "      <td>IN-2012-PB19210127-41259</td>\n",
       "      <td>Eastern Asia</td>\n",
       "      <td>2012</td>\n",
       "    </tr>\n",
       "  </tbody>\n",
       "</table>\n",
       "<p>5 rows × 29 columns</p>\n",
       "</div>"
      ],
      "text/plain": [
       "   Row.ID                  Order.ID Order.Date Ship.Date    Ship.Mode  \\\n",
       "0   30191  IN-2012-PB19210127-41259 2012-12-16  12/19/12  First Class   \n",
       "1   30190  IN-2012-PB19210127-41259 2012-12-16  12/19/12  First Class   \n",
       "2   30187  IN-2012-PB19210127-41259 2012-12-16  12/19/12  First Class   \n",
       "3   30193  IN-2012-PB19210127-41259 2012-12-16  12/19/12  First Class   \n",
       "4   30189  IN-2012-PB19210127-41259 2012-12-16  12/19/12  First Class   \n",
       "\n",
       "   Customer.ID   Customer.Name    Segment  Postal.Code    City  ...  Quantity  \\\n",
       "0  PB-19210127  Phillip Breyer  Corporate          NaN  Taipei  ...         2   \n",
       "1  PB-19210127  Phillip Breyer  Corporate          NaN  Taipei  ...         5   \n",
       "2  PB-19210127  Phillip Breyer  Corporate          NaN  Taipei  ...         3   \n",
       "3  PB-19210127  Phillip Breyer  Corporate          NaN  Taipei  ...         5   \n",
       "4  PB-19210127  Phillip Breyer  Corporate          NaN  Taipei  ...         3   \n",
       "\n",
       "  Discount  Profit Shipping.Cost Order.Priority month Returned  \\\n",
       "0      0.0  720.36        725.57       Critical    12      Yes   \n",
       "1      0.0  153.75        627.27       Critical    12      Yes   \n",
       "2      0.0  311.85        458.97       Critical    12      Yes   \n",
       "3      0.0  114.60        203.92       Critical    12      Yes   \n",
       "4      0.0   68.22         25.48       Critical    12      Yes   \n",
       "\n",
       "                   Order ID      Region_y  year  \n",
       "0  IN-2012-PB19210127-41259  Eastern Asia  2012  \n",
       "1  IN-2012-PB19210127-41259  Eastern Asia  2012  \n",
       "2  IN-2012-PB19210127-41259  Eastern Asia  2012  \n",
       "3  IN-2012-PB19210127-41259  Eastern Asia  2012  \n",
       "4  IN-2012-PB19210127-41259  Eastern Asia  2012  \n",
       "\n",
       "[5 rows x 29 columns]"
      ]
     },
     "execution_count": 84,
     "metadata": {},
     "output_type": "execute_result"
    }
   ],
   "source": [
    "order_return.head()"
   ]
  },
  {
   "cell_type": "code",
   "execution_count": 88,
   "metadata": {
    "collapsed": false
   },
   "outputs": [
    {
     "data": {
      "text/plain": [
       "year\n",
       "2012    17477.26\n",
       "2013     9269.89\n",
       "2014    17510.63\n",
       "2015    17112.97\n",
       "Name: Profit, dtype: float64"
      ]
     },
     "execution_count": 88,
     "metadata": {},
     "output_type": "execute_result"
    }
   ],
   "source": [
    "order_return.groupby('year')['Profit'].sum()"
   ]
  },
  {
   "cell_type": "code",
   "execution_count": 89,
   "metadata": {
    "collapsed": false
   },
   "outputs": [
    {
     "data": {
      "text/plain": [
       "<matplotlib.axes._subplots.AxesSubplot at 0x127ef4eb8>"
      ]
     },
     "execution_count": 89,
     "metadata": {},
     "output_type": "execute_result"
    },
    {
     "data": {
      "image/png": "[encoded data removed]",
      "text/plain": [
       "<Figure size 600x400 with 1 Axes>"
      ]
     },
     "metadata": {},
     "output_type": "display_data"
    }
   ],
   "source": [
    "order_return.groupby('year')['Profit'].sum().plot.bar()"
   ]
  },
  {
   "cell_type": "code",
   "execution_count": 91,
   "metadata": {
    "collapsed": false
   },
   "outputs": [
    {
     "data": {
      "text/plain": [
       "Customer.ID\n",
       "AA-1031558      1\n",
       "AA-106451404    1\n",
       "AA-1064559      3\n",
       "AA-1064564      1\n",
       "AA-645137       1\n",
       "AB-1001527      2\n",
       "AB-10105101     3\n",
       "AB-1015093      1\n",
       "AB-10165139     2\n",
       "AB-1016545      6\n",
       "AB-102551404    1\n",
       "AB-1025582      1\n",
       "AB-1060058      3\n",
       "AB-1060064      1\n",
       "AB-25586        1\n",
       "AB-60086        6\n",
       "AC-1061558      2\n",
       "AC-66038        5\n",
       "AD-101801406    2\n",
       "AF-1087026      2\n",
       "AG-1039045      2\n",
       "AG-104951402    3\n",
       "AG-1049545      5\n",
       "AG-1049564      2\n",
       "AG-105251402    1\n",
       "AG-1052518      2\n",
       "AG-1052582      1\n",
       "AG-106751408    2\n",
       "AG-1076527      1\n",
       "AG-1076539      2\n",
       "               ..\n",
       "TS-215051404    2\n",
       "TS-2150559      5\n",
       "TS-216551408    4\n",
       "TT-210701408    2\n",
       "TT-212201404    1\n",
       "TT-212651406    1\n",
       "TT-2146045      1\n",
       "TW-2102578      1\n",
       "TZ-1144523      1\n",
       "TZ-1144577      1\n",
       "TZ-2144518      2\n",
       "TZ-2158093      1\n",
       "VB-217451       3\n",
       "VD-216701408    1\n",
       "VD-2167059      2\n",
       "VF-2171527      4\n",
       "VG-1179038      1\n",
       "VG-2180548      1\n",
       "VM-218351404    2\n",
       "VM-2183551      3\n",
       "VP-2173048      1\n",
       "VP-2173058      1\n",
       "VW-217751406    1\n",
       "VW-2177545      1\n",
       "WB-21850139     1\n",
       "WB-218501406    3\n",
       "WB-2185064      1\n",
       "YS-2188093      1\n",
       "ZC-219101402    1\n",
       "ZD-2192548      1\n",
       "Name: Returned, dtype: int64"
      ]
     },
     "execution_count": 91,
     "metadata": {},
     "output_type": "execute_result"
    }
   ],
   "source": [
    "order_return.groupby('Customer.ID')['Returned'].count()"
   ]
  },
  {
   "cell_type": "code",
   "execution_count": null,
   "metadata": {
    "collapsed": true
   },
   "outputs": [],
   "source": []
  },
  {
   "cell_type": "code",
   "execution_count": 121,
   "metadata": {
    "collapsed": false
   },
   "outputs": [
    {
     "data": {
      "text/plain": [
       "46"
      ]
     },
     "execution_count": 121,
     "metadata": {},
     "output_type": "execute_result"
    }
   ],
   "source": [
    "df = order_return.groupby('Customer.ID')['Order.ID'].count().reset_index()\n",
    "df[df['Order.ID'].apply(lambda x: x > 5)].shape[0]"
   ]
  },
  {
   "cell_type": "code",
   "execution_count": null,
   "metadata": {
    "collapsed": true
   },
   "outputs": [],
   "source": []
  },
  {
   "cell_type": "code",
   "execution_count": 95,
   "metadata": {
    "collapsed": false
   },
   "outputs": [],
   "source": [
    "new_df2 = pd.DataFrame(order_return.groupby('Customer.ID')['Returned'].count())"
   ]
  },
  {
   "cell_type": "code",
   "execution_count": 100,
   "metadata": {
    "collapsed": false
   },
   "outputs": [
    {
     "data": {
      "text/plain": [
       "547"
      ]
     },
     "execution_count": 100,
     "metadata": {},
     "output_type": "execute_result"
    }
   ],
   "source": [
    "new_df2[new_df2.Returned >1].shape[0]"
   ]
  },
  {
   "cell_type": "code",
   "execution_count": null,
   "metadata": {
    "collapsed": false
   },
   "outputs": [],
   "source": []
  },
  {
   "cell_type": "code",
   "execution_count": 118,
   "metadata": {
    "collapsed": false
   },
   "outputs": [
    {
     "data": {
      "text/plain": [
       "0    IN-2012-PB19210127-41259\n",
       "1    IN-2012-PB19210127-41259\n",
       "2    IN-2012-PB19210127-41259\n",
       "3    IN-2012-PB19210127-41259\n",
       "4    IN-2012-PB19210127-41259\n",
       "Name: Order.ID, dtype: object"
      ]
     },
     "execution_count": 118,
     "metadata": {},
     "output_type": "execute_result"
    }
   ],
   "source": [
    "order_return['Order.ID'].head()"
   ]
  },
  {
   "cell_type": "code",
   "execution_count": 101,
   "metadata": {
    "collapsed": false
   },
   "outputs": [
    {
     "data": {
      "text/plain": [
       "46"
      ]
     },
     "execution_count": 101,
     "metadata": {},
     "output_type": "execute_result"
    }
   ],
   "source": [
    "new_df2[new_df2.Returned >5].shape[0]"
   ]
  },
  {
   "cell_type": "code",
   "execution_count": 103,
   "metadata": {
    "collapsed": false
   },
   "outputs": [
    {
     "data": {
      "text/plain": [
       "Region_x\n",
       "Canada                15\n",
       "Caribbean             69\n",
       "Central Africa        17\n",
       "Central America      248\n",
       "Central Asia           9\n",
       "Central US            74\n",
       "Eastern Africa        18\n",
       "Eastern Asia         131\n",
       "Eastern Europe        42\n",
       "Eastern US           134\n",
       "North Africa          51\n",
       "Northern Europe       76\n",
       "Oceania              154\n",
       "South America        133\n",
       "Southeastern Asia    140\n",
       "Southern Africa       25\n",
       "Southern Asia        111\n",
       "Southern Europe      112\n",
       "Southern US           83\n",
       "Western Africa        60\n",
       "Western Asia         108\n",
       "Western Europe       233\n",
       "Western US           177\n",
       "Name: Returned, dtype: int64"
      ]
     },
     "execution_count": 103,
     "metadata": {},
     "output_type": "execute_result"
    }
   ],
   "source": [
    "order_return.groupby('Region_x')['Returned'].count()"
   ]
  },
  {
   "cell_type": "code",
   "execution_count": 108,
   "metadata": {
    "collapsed": false
   },
   "outputs": [
    {
     "data": {
      "text/plain": [
       "Region_x\n",
       "Central America      248\n",
       "Western Europe       233\n",
       "Western US           177\n",
       "Oceania              154\n",
       "Southeastern Asia    140\n",
       "Eastern US           134\n",
       "South America        133\n",
       "Eastern Asia         131\n",
       "Southern Europe      112\n",
       "Southern Asia        111\n",
       "Western Asia         108\n",
       "Southern US           83\n",
       "Northern Europe       76\n",
       "Central US            74\n",
       "Caribbean             69\n",
       "Western Africa        60\n",
       "North Africa          51\n",
       "Eastern Europe        42\n",
       "Southern Africa       25\n",
       "Eastern Africa        18\n",
       "Central Africa        17\n",
       "Canada                15\n",
       "Central Asia           9\n",
       "Name: Returned, dtype: int64"
      ]
     },
     "execution_count": 108,
     "metadata": {},
     "output_type": "execute_result"
    }
   ],
   "source": [
    "order_return.groupby('Region_x')['Returned'].count().sort_values(ascending = False)"
   ]
  },
  {
   "cell_type": "code",
   "execution_count": 110,
   "metadata": {
    "collapsed": false
   },
   "outputs": [
    {
     "data": {
      "text/plain": [
       "<matplotlib.axes._subplots.AxesSubplot at 0x127419c50>"
      ]
     },
     "execution_count": 110,
     "metadata": {},
     "output_type": "execute_result"
    },
    {
     "data": {
      "image/png": "[encoded data removed]",
      "text/plain": [
       "<Figure size 600x400 with 1 Axes>"
      ]
     },
     "metadata": {},
     "output_type": "display_data"
    }
   ],
   "source": [
    "order_return.groupby('Region_x')['Returned'].count().sort_values(ascending = False).plot.bar()"
   ]
  },
  {
   "cell_type": "code",
   "execution_count": 109,
   "metadata": {
    "collapsed": false
   },
   "outputs": [
    {
     "data": {
      "text/plain": [
       "Category\n",
       "Office Supplies    1348\n",
       "Technology          445\n",
       "Furniture           427\n",
       "Name: Returned, dtype: int64"
      ]
     },
     "execution_count": 109,
     "metadata": {},
     "output_type": "execute_result"
    }
   ],
   "source": [
    "order_return.groupby('Category')['Returned'].count().sort_values(ascending = False)"
   ]
  },
  {
   "cell_type": "code",
   "execution_count": 111,
   "metadata": {
    "collapsed": false
   },
   "outputs": [
    {
     "data": {
      "text/plain": [
       "<matplotlib.axes._subplots.AxesSubplot at 0x127435b38>"
      ]
     },
     "execution_count": 111,
     "metadata": {},
     "output_type": "execute_result"
    },
    {
     "data": {
      "image/png": "[encoded data removed]",
      "text/plain": [
       "<Figure size 600x400 with 1 Axes>"
      ]
     },
     "metadata": {},
     "output_type": "display_data"
    }
   ],
   "source": [
    "order_return.groupby('Category')['Returned'].count().sort_values(ascending = False).plot.bar()"
   ]
  },
  {
   "cell_type": "code",
   "execution_count": 113,
   "metadata": {
    "collapsed": false
   },
   "outputs": [
    {
     "data": {
      "text/plain": [
       "Sub.Category\n",
       "Binders        269\n",
       "Art            217\n",
       "Storage        212\n",
       "Paper          150\n",
       "Chairs         147\n",
       "Phones         145\n",
       "Accessories    138\n",
       "Labels         137\n",
       "Furnishings    135\n",
       "Bookcases      104\n",
       "Supplies       103\n",
       "Fasteners      102\n",
       "Copiers         99\n",
       "Envelopes       99\n",
       "Machines        63\n",
       "Appliances      59\n",
       "Tables          41\n",
       "Name: Returned, dtype: int64"
      ]
     },
     "execution_count": 113,
     "metadata": {},
     "output_type": "execute_result"
    }
   ],
   "source": [
    "order_return.groupby('Sub.Category')['Returned'].count().sort_values(ascending = False)"
   ]
  },
  {
   "cell_type": "code",
   "execution_count": 114,
   "metadata": {
    "collapsed": false
   },
   "outputs": [
    {
     "data": {
      "text/plain": [
       "<matplotlib.axes._subplots.AxesSubplot at 0x1272e40b8>"
      ]
     },
     "execution_count": 114,
     "metadata": {},
     "output_type": "execute_result"
    },
    {
     "data": {
      "image/png": "[encoded data removed]",
      "text/plain": [
       "<Figure size 600x400 with 1 Axes>"
      ]
     },
     "metadata": {},
     "output_type": "display_data"
    }
   ],
   "source": [
    "order_return.groupby('Sub.Category')['Returned'].count().sort_values(ascending = False).plot.bar()"
   ]
  },
  {
   "cell_type": "code",
   "execution_count": null,
   "metadata": {
    "collapsed": false
   },
   "outputs": [],
   "source": []
  },
  {
   "cell_type": "code",
   "execution_count": null,
   "metadata": {
    "collapsed": true
   },
   "outputs": [],
   "source": []
  }
 ],
 "metadata": {
  "anaconda-cloud": {},
  "kernelspec": {
   "display_name": "Python [Root]",
   "language": "python",
   "name": "Python [Root]"
  },
  "language_info": {
   "codemirror_mode": {
    "name": "ipython",
    "version": 3
   },
   "file_extension": ".py",
   "mimetype": "text/x-python",
   "name": "python",
   "nbconvert_exporter": "python",
   "pygments_lexer": "ipython3",
   "version": "3.5.2"
  }
 },
 "nbformat": 4,
 "nbformat_minor": 2
}
